{
 "cells": [
  {
   "cell_type": "markdown",
   "metadata": {},
   "source": [
    "# Capital Asset Pricing Model (CAPM)\n",
    "[Paper](http://mba.tuck.dartmouth.edu/bespeneckbo/default/AFA611-Eckbo%20web%20site/AFA611-S6B-FamaFrench-CAPM-JEP04.pdf)\n",
    "\n",
    "## Assumptions\n",
    "* Investors care only about mean and variance\n",
    "* Investors agree on distribution of asset returns\n",
    "* Borrowing and lending at the same risk free rate for all investors\n",
    "* Short selling is allowed without slippage\n",
    "\n",
    "## Mean Variance Efficient\n",
    "* Goal: Optimizing ratio between mean and risk (standard deviation)\n",
    "* $R_p = x R_f + (1 - x) R_s$\n",
    "* Mean: $E[R_p] = x R_f + (1 - x) E[R_s]$\n",
    "* Variance: $\\sigma(R_p) = (1 - x) \\sigma(R_s)$\n",
    "* Correlation between return and variance: $E[R_p] = R_f + \\frac{E[R_s] - R_f}{\\sigma(R_s)} \\sigma(R_p)$\n",
    "* Slope of possible portfolio lines is determined by Sharpe ratio of risky assets => tangent point of the line and possible risky asset curve is the optimal portfolio\n",
    "\n",
    "## Model\n",
    "* All investor hold the same tangent portfolio => the tangent portfolio is the market portfolio: $R_m$\n",
    "* $E[R_i] = E[R_{zm}] + \\beta_i [E[R_m] - E[R_{zm}]]$, where $E[R_{zm}]$ is the expected return of assets with zero $\\beta$\n",
    "* Beta is the correlation between a security and the market return: $\\beta_i = \\frac{cov(R_i,  R_m)}{\\sigma(R_m)^2}$"
   ]
  },
  {
   "cell_type": "markdown",
   "metadata": {},
   "source": [
    "# Arbitrage Pricing Theory (APT)\n",
    "\n",
    "[Paper](https://www.cfapubs.org/doi/pdf/10.2469/faj.v51.n1.1868)\n",
    "\n",
    "## Assumptions\n",
    "* Generalization of CAPM\n",
    "* Systematic factors are the major source of risk\n",
    "\n",
    "## Model\n",
    "* $R = E + \\sum_i \\beta_i f_i + \\epsilon$\n",
    "* E is the expected return: $E[R] = E$\n",
    "* Unanticipated factors have zero mean: $E[f_i] = 0$\n",
    "* $\\epsilon$ is idiosyncratic factors, which can be diversified away\n",
    "* All anticipated factors are incorporated into $E$\n",
    "\n",
    "## Typical Unanticipated Factors\n",
    "* Unanticipated changes in inflation\n",
    "* Unanticipated changes in industrial production\n",
    "* Unanticipated changes in risk premiums\n",
    "* Unanticipated changes in the slope of the term structure of interest rates\n",
    "\n",
    "\n",
    "## Comparison with CAPM\n",
    "* Different risk exposures in APT could be identical risk exposure in CAPM\n",
    "* CAPM requires the market is optimized portfolio\n",
    "* More diverse risk exposure in APT"
   ]
  },
  {
   "cell_type": "code",
   "execution_count": null,
   "metadata": {},
   "outputs": [],
   "source": []
  }
 ],
 "metadata": {
  "kernelspec": {
   "display_name": "Python 3",
   "language": "python",
   "name": "python3"
  },
  "language_info": {
   "codemirror_mode": {
    "name": "ipython",
    "version": 3
   },
   "file_extension": ".py",
   "mimetype": "text/x-python",
   "name": "python",
   "nbconvert_exporter": "python",
   "pygments_lexer": "ipython3",
   "version": "3.6.4"
  }
 },
 "nbformat": 4,
 "nbformat_minor": 2
}
